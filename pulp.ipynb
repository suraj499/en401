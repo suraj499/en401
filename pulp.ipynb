{
 "cells": [
  {
   "cell_type": "code",
   "execution_count": 1,
   "metadata": {},
   "outputs": [],
   "source": [
    "from pulp import *"
   ]
  },
  {
   "cell_type": "code",
   "execution_count": 2,
   "metadata": {},
   "outputs": [],
   "source": [
    "DESTINATIONS = ['D1','D2','D3','D4','D5','D6','D7','D8','D9','D10','D11','D12','D13','D14','D15'] #creating destinations,origins and vehicles\n",
    "ORIGINS = ['O1','O2','O3','O4','O5']\n",
    "VEHICLES = list(range(1,76))"
   ]
  },
  {
   "cell_type": "code",
   "execution_count": 3,
   "metadata": {
    "scrolled": true
   },
   "outputs": [],
   "source": [
    "cbc = {'D1': 52000,         #basic construction cost of destinations\n",
    "      'D2': 57000,\n",
    "      'D3': 54600,\n",
    "      'D4': 49000,\n",
    "      'D5': 52500,\n",
    "      'D6': 49000,\n",
    "      'D7': 45400,\n",
    "      'D8': 47000,\n",
    "      'D9': 44000,\n",
    "      'D10': 56000,\n",
    "      'D11': 55000,\n",
    "      'D12': 49000,\n",
    "      'D13': 53000,\n",
    "      'D14': 53000,\n",
    "      'D15': 49500}\n",
    "do = {}                     #distances of destination of charging station to origin\n",
    "dd = {}                     #distances of destination of charging station to destinations\n",
    "for i in range(1,16):\n",
    "    do[i]={}\n",
    "    for j in range(1,16):\n",
    "        do[i].update({'D'+str(j):(int((j-1)/5)+1+(j-1)%5)}) \n",
    "for i in range(16,31):\n",
    "    do[i]={}\n",
    "    for j in range(1,16):\n",
    "        do[i].update({'D'+str(j):int((j-1)/5)+1+abs((j-1)%5-(1)%5)})\n",
    "for i in range(31,46):\n",
    "    do[i]={}\n",
    "    for j in range(1,16):\n",
    "        do[i].update({'D'+str(j):int((j-1)/5)+1+abs((j-1)%5-(2)%5)})\n",
    "\n",
    "for i in range(46,61):\n",
    "    do[i]={}\n",
    "    for j in range(1,16):\n",
    "        do[i].update({'D'+str(j):int((j-1)/5)+1+abs((j-1)%5-(3)%5)})\n",
    "\n",
    "for i in range(61,76):\n",
    "    do[i]={}\n",
    "    for j in range(1,16):\n",
    "        do[i].update({'D'+str(j):int((j-1)/5)+1+abs((j-1)%5-(4)%5)})\n",
    "\n",
    "for k in range(1,16):  \n",
    "    for i in range(k,61+k,15):\n",
    "        dd[i]={}\n",
    "        for j in range(1,16):\n",
    "            dd[i].update({'D'+str(j):abs(int((k-1)/5)-int((j-1)/5))+abs((k-1)%5-(j-1)%5)})\n"
   ]
  },
  {
   "cell_type": "code",
   "execution_count": 4,
   "metadata": {
    "scrolled": true
   },
   "outputs": [],
   "source": [
    "prob = LpProblem('charging',LpMinimize)            #defining the lp problem\n",
    "xdj = LpVariable.dicts('xdj',DESTINATIONS,0,1,LpBinary)     #defining decision variables\n",
    "ndj = LpVariable.dicts('ndj',DESTINATIONS,0)\n",
    "yvidj=LpVariable.dicts('yvidj',[(i,j) for i in VEHICLES for j in DESTINATIONS],0,1,LpBinary)"
   ]
  },
  {
   "cell_type": "code",
   "execution_count": 5,
   "metadata": {},
   "outputs": [],
   "source": [
    "#objective function\n",
    "prob += lpSum((cbc[j]+25000)*ndj[j]*0.1174 for j in DESTINATIONS)+lpSum(3000*(do[i][j] + dd[i][j])*yvidj[(i,j)] for i in VEHICLES for j in DESTINATIONS)    "
   ]
  },
  {
   "cell_type": "code",
   "execution_count": 6,
   "metadata": {
    "scrolled": false
   },
   "outputs": [],
   "source": [
    "#adding constraints\n",
    "for j in DESTINATIONS:\n",
    "    prob+=lpSum(yvidj[(i,j)] for i in VEHICLES)==1\n",
    "\n",
    "for j in DESTINATIONS:\n",
    "    prob+=lpSum(xdj[j])==7\n",
    "\n",
    "for i in VEHICLES:\n",
    "    for j in DESTINATIONS:\n",
    "        prob+= yvidj[(i,j)] <= xdj[j]\n",
    "    \n",
    "for j in DESTINATIONS:\n",
    "    prob+= ndj[j]>=lpSum(yvidj[(i,j)] for i in VEHICLES)"
   ]
  },
  {
   "cell_type": "code",
   "execution_count": 7,
   "metadata": {},
   "outputs": [
    {
     "data": {
      "text/plain": [
       "-1"
      ]
     },
     "execution_count": 7,
     "metadata": {},
     "output_type": "execute_result"
    }
   ],
   "source": [
    "prob.writeLP('charging.lp')    #solving the lp problem\n",
    "prob.solve()"
   ]
  },
  {
   "cell_type": "code",
   "execution_count": null,
   "metadata": {},
   "outputs": [],
   "source": []
  }
 ],
 "metadata": {
  "kernelspec": {
   "display_name": "Python 3",
   "language": "python",
   "name": "python3"
  },
  "language_info": {
   "codemirror_mode": {
    "name": "ipython",
    "version": 3
   },
   "file_extension": ".py",
   "mimetype": "text/x-python",
   "name": "python",
   "nbconvert_exporter": "python",
   "pygments_lexer": "ipython3",
   "version": "3.7.3"
  }
 },
 "nbformat": 4,
 "nbformat_minor": 2
}
